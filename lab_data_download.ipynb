{
 "cells": [
  {
   "cell_type": "code",
   "execution_count": 0,
   "metadata": {},
   "outputs": [],
   "source": [
    "%%time\n",
    "\n",
    "# RUN CELL TO CREATE A ZIP FILE WITH ALL YOUR DATA (THIS MAY TAKE SOME TIME)\n",
    "# ONCE FINISHED THE ZIP (lab_data.tar.gz) WILL BE AVAILABLE FROM THE FILE BROWSER (ON THE LEFT)\n",
    "# RIGHT-CLICK ON THE ZIP AND SELECT Download TO DOWNLOAD THE FILE\n",
    "\n",
    "!tar --create --gzip --dereference --exclude='.*' --exclude='qiskit-textbook' --exclude='qiskit-tutorials' --file=lab_data.tar.gz *"
   ]
  }
 ],
 "metadata": {
  "kernelspec": {
   "display_name": "Python 3",
   "language": "python",
   "name": "python3"
  },
  "language_info": {
   "codemirror_mode": {
    "name": "ipython",
    "version": 3
   },
   "file_extension": ".py",
   "mimetype": "text/x-python",
   "name": "python",
   "nbconvert_exporter": "python",
   "pygments_lexer": "ipython3",
   "version": "3.7.8"
  }
 },
 "nbformat": 4,
 "nbformat_minor": 4
}
