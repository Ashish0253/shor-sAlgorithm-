{
 "cells": [
  {
   "cell_type": "code",
   "execution_count": 1,
   "id": "d81faa93-e397-4364-94a3-5f68aa3f3fd1",
   "metadata": {
    "tags": []
   },
   "outputs": [
    {
     "name": "stderr",
     "output_type": "stream",
     "text": [
      "qiskit_runtime_service.__init__:INFO:2024-04-26 12:59:32,542: Default instance: ibm-q/open/main\n"
     ]
    }
   ],
   "source": [
    "# Importing standard Qiskit libraries\n",
    "from qiskit import QuantumCircuit, transpile\n",
    "from qiskit.visualization import *\n",
    "from ibm_quantum_widgets import *\n",
    "\n",
    "# qiskit-ibmq-provider has been deprecated.\n",
    "# Please see the Migration Guides in https://ibm.biz/provider_migration_guide for more detail.\n",
    "from qiskit_ibm_runtime import QiskitRuntimeService, Sampler, Estimator, Session, Options\n",
    "\n",
    "# Loading your IBM Quantum account(s)\n",
    "service = QiskitRuntimeService(channel=\"ibm_quantum\")\n",
    "\n",
    "# Invoke a primitive. For more details see https://docs.quantum.ibm.com/run/primitives\n",
    "# result = Sampler().run(circuits).result()"
   ]
  },
  {
   "cell_type": "code",
   "execution_count": 2,
   "id": "c1f14b26-d9a6-439f-869c-72eab2ea152c",
   "metadata": {
    "tags": []
   },
   "outputs": [],
   "source": [
    "from qiskit import *\n",
    "from qiskit.visualization import plot_bloch_multivector, plot_histogram\n",
    "import math"
   ]
  },
  {
   "cell_type": "code",
   "execution_count": 7,
   "id": "2108a8cc-2405-4ec2-96ec-64b74c53ec53",
   "metadata": {
    "tags": []
   },
   "outputs": [
    {
     "name": "stdin",
     "output_type": "stream",
     "text": [
      "Enter a binary number 111\n",
      "Enter another binary number 101\n"
     ]
    },
    {
     "name": "stdout",
     "output_type": "stream",
     "text": [
      "1\n",
      "1\n",
      "1\n",
      "      ┌───┐                                                                 »\n",
      " a_0: ┤ X ├──■──────────────■───────────────────────────────────────────────»\n",
      "      ├───┤  │              │                                               »\n",
      " a_1: ┤ X ├──┼────■─────────┼────■──────────────────────────────────■────■──»\n",
      "      ├───┤  │    │         │    │                                  │    │  »\n",
      " a_2: ┤ X ├──┼────┼────■────┼────┼────■─────────────────────────────┼────┼──»\n",
      "      ├───┤  │    │    │  ┌─┴─┐  │    │                             │    │  »\n",
      " b_0: ┤ X ├──■────┼────┼──┤ X ├──┼────┼────■────────────────────────┼────┼──»\n",
      "      └───┘  │    │    │  └───┘┌─┴─┐  │    │                      ┌─┴─┐  │  »\n",
      " b_1: ───────┼────■────┼───────┤ X ├──┼────┼────■──────────────■──┤ X ├──■──»\n",
      "      ┌───┐  │    │    │       └───┘┌─┴─┐  │    │       ┌───┐  │  └───┘  │  »\n",
      " b_2: ┤ X ├──┼────┼────■────────────┤ X ├──┼────┼────■──┤ X ├──┼─────────┼──»\n",
      "      └───┘  │    │  ┌─┴─┐          └───┘  │    │  ┌─┴─┐└─┬─┘  │         │  »\n",
      " b_3: ───────┼────┼──┤ X ├─────────────────┼────┼──┤ X ├──┼────┼─────────┼──»\n",
      "             │    │  └───┘                 │    │  └─┬─┘  │    │         │  »\n",
      " c_0: ───────┼────┼────────────────────────■────┼────┼────┼────┼─────────┼──»\n",
      "           ┌─┴─┐  │                      ┌─┴─┐  │    │    │    │         │  »\n",
      " c_1: ─────┤ X ├──┼──────────────────────┤ X ├──■────┼────┼────■─────────┼──»\n",
      "           └───┘┌─┴─┐                    └───┘┌─┴─┐  │    │  ┌─┴─┐     ┌─┴─┐»\n",
      " c_2: ──────────┤ X ├─────────────────────────┤ X ├──■────■──┤ X ├─────┤ X ├»\n",
      "                └───┘                         └───┘          └───┘     └───┘»\n",
      " c_3: ──────────────────────────────────────────────────────────────────────»\n",
      "                                                                            »\n",
      "cl: 4/══════════════════════════════════════════════════════════════════════»\n",
      "                                                                            »\n",
      "«                                         \n",
      "« a_0: ─────────────────■────■─────────■──\n",
      "«                       │    │         │  \n",
      "« a_1: ───────■─────────┼────┼─────────┼──\n",
      "«             │         │    │         │  \n",
      "« a_2: ───────┼─────────┼────┼─────────┼──\n",
      "«             │       ┌─┴─┐  │  ┌───┐┌─┴─┐\n",
      "« b_0: ───────┼────■──┤ X ├──■──┤ X ├┤ X ├\n",
      "«      ┌───┐┌─┴─┐  │  └───┘  │  └─┬─┘└───┘\n",
      "« b_1: ┤ X ├┤ X ├──┼─────────┼────┼───────\n",
      "«      └─┬─┘└───┘  │         │    │       \n",
      "« b_2: ──┼─────────┼─────────┼────┼───────\n",
      "«        │         │         │    │       \n",
      "« b_3: ──┼─────────┼─────────┼────┼───────\n",
      "«        │         │         │    │       \n",
      "« c_0: ──┼─────────■─────────┼────■───────\n",
      "«        │       ┌─┴─┐     ┌─┴─┐          \n",
      "« c_1: ──■───────┤ X ├─────┤ X ├──────────\n",
      "«                └───┘     └───┘          \n",
      "« c_2: ───────────────────────────────────\n",
      "«                                         \n",
      "« c_3: ───────────────────────────────────\n",
      "«                                         \n",
      "«cl: 4/═══════════════════════════════════\n",
      "«                                         \n"
     ]
    }
   ],
   "source": [
    "def main():\n",
    "    count = -1 #Used to trigger exit from loop only when both inputs are valid\n",
    "    while count == -1:\n",
    "        first = input(\"Enter a binary number\")\n",
    "        second = input(\"Enter another binary number\")\n",
    "        l = len(first)\n",
    "        l2 = len(second)\n",
    "        #Checking if the length of either number is more than 8 digits\n",
    "        if l > 8 or l2 > 8:\n",
    "            print(\"Please enter valid inputs. Try again.\")\n",
    "        else:\n",
    "            count = 0\n",
    "    #Finding out which number is larger and assigning\n",
    "    #that length to the variable n\n",
    "    if l > l2:\n",
    "         n = l\n",
    "    else:\n",
    "         n = l2\n",
    "    #Initialising the registers; two quantum registers with n bits each\n",
    "    #1 more with n+1 bits, which will also hold the sum of the two numbers\n",
    "    #The classical register has n+1 bits, which is used to output the  \n",
    "    #final sum\n",
    "    a = QuantumRegister(n, 'a') #First number\n",
    "    b = QuantumRegister(n + 1, 'b') #Second number and sum\n",
    "    c = QuantumRegister(n + 1, 'c') #Carry bits\n",
    "    cl = ClassicalRegister(n+1, 'cl') #Final output\n",
    "    #Combining all of them into one quantum circuit\n",
    "    qc = QuantumCircuit(a, b, c, cl)\n",
    "    #Setting up the registers a and b to hold the values inputted \n",
    "    counter = 0\n",
    "    for i in first:\n",
    "        print(i)\n",
    "        if i == \"1\":\n",
    "            qc.x(a[l - (counter+1)])\n",
    "        counter += 1\n",
    "    counter = 0\n",
    "    for i in second:\n",
    "        if i == \"1\":\n",
    "            qc.x(b[l2 - (counter+1)])\n",
    "        counter += 1\n",
    "    #Implementing a carry gate that is applied on all (c[i], a[i], b[i]) \n",
    "    #with output fed to c[i+1]\n",
    "    for i in range(n-1):\n",
    "        qc.ccx(a[i], b[i], c[i+1])\n",
    "        qc.cx(a[i], b[i])\n",
    "        qc.ccx(c[i], b[i], c[i+1])\n",
    "    #For the last iteration of the carry gate, instead of feeding the\n",
    "    #result to c[n], we use b[n], which is why c has only n bits,\n",
    "    #with c[n-1] being the last carry bit\n",
    "    qc.ccx(a[n-1], b[n-1], b[n])\n",
    "    qc.cx(a[n-1], b[n-1])\n",
    "    qc.ccx(c[n-1], b[n-1], b[n])\n",
    "    #Reversing the gate operation performed on b[n-1]\n",
    "    qc.cx(c[n-1], b[n-1])\n",
    "    #Reversing the gate operations performed during the carry gate\n",
    "    #implementations, which is done to reset all carry bits to \n",
    "    #the |0> state\n",
    "    for i in range(n-1):\n",
    "        qc.ccx(c[(n-2)-i], b[(n-2)-i], c[(n-1)-i])\n",
    "        qc.cx(a[(n-2)-i], b[(n-2)-i])\n",
    "        qc.ccx(a[(n-2)-i], b[(n-2)-i], c[(n-1)-i])\n",
    "        #These two operations act as a sum gate; if a control bit is \n",
    "        #in the |1> state then the target bit b[(n-2)-i] is flipped\n",
    "        qc.cx(c[(n-2)-i], b[(n-2)-i])\n",
    "        qc.cx(a[(n-2)-i], b[(n-2)-i])\n",
    "    \n",
    "    print(qc)\n",
    "\n",
    "    #Measure qubits\n",
    "    # for i in range(n+1):\n",
    "    #     qc.measure(b[i], cl[i])\n",
    "    \n",
    "    \n",
    "main()"
   ]
  },
  {
   "cell_type": "code",
   "execution_count": null,
   "id": "3d89e2f8-d47f-441a-acef-6a1e57065c6b",
   "metadata": {},
   "outputs": [],
   "source": []
  },
  {
   "cell_type": "code",
   "execution_count": null,
   "id": "a7426e0d-d16f-4a99-b49b-cd9d36d7a59d",
   "metadata": {},
   "outputs": [],
   "source": []
  }
 ],
 "metadata": {
  "kernelspec": {
   "display_name": "Qiskit v1.0.2 (ipykernel)",
   "language": "python",
   "name": "python3"
  },
  "language_info": {
   "codemirror_mode": {
    "name": "ipython",
    "version": 3
   },
   "file_extension": ".py",
   "mimetype": "text/x-python",
   "name": "python",
   "nbconvert_exporter": "python",
   "pygments_lexer": "ipython3",
   "version": "3.10.8"
  },
  "widgets": {
   "application/vnd.jupyter.widget-state+json": {
    "state": {},
    "version_major": 2,
    "version_minor": 0
   }
  }
 },
 "nbformat": 4,
 "nbformat_minor": 5
}
